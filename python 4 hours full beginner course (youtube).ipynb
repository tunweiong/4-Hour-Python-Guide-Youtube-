{
 "cells": [
  {
   "cell_type": "code",
   "execution_count": 1,
   "metadata": {},
   "outputs": [
    {
     "name": "stdout",
     "output_type": "stream",
     "text": [
      "Hello World!\n"
     ]
    }
   ],
   "source": [
    "print ('Hello World!')"
   ]
  },
  {
   "cell_type": "code",
   "execution_count": 2,
   "metadata": {},
   "outputs": [
    {
     "name": "stdout",
     "output_type": "stream",
     "text": [
      "   /|\n",
      "  / |\n",
      " /  |\n",
      "/_ _| \n"
     ]
    }
   ],
   "source": [
    "# drawing a shape\n",
    "print ('   /|')\n",
    "print ('  / |')\n",
    "print (' /  |')\n",
    "print ('/_ _| ')"
   ]
  },
  {
   "cell_type": "code",
   "execution_count": 3,
   "metadata": {},
   "outputs": [
    {
     "name": "stdout",
     "output_type": "stream",
     "text": [
      "there once was a man named John,\n",
      "he was 35 years old.\n",
      "he really liked the name John,\n",
      "but didnt like being 35\n"
     ]
    }
   ],
   "source": [
    "# variables\n",
    "# normal story. but if the story is very long and u wanna change the John to something else, or the age to some other number.\n",
    "# u will need to make use of variables to make ur job easier\n",
    "print('there once was a man named John,')\n",
    "print('he was 35 years old.')\n",
    "print('he really liked the name John,')\n",
    "print('but didnt like being 35')\n",
    "\n",
    "# to create a variable, we need give a few information.\n",
    "# 1) name of variable, in this case eg: character_name. for creating a variable in python, we want seperate different words with underscore\n",
    "# 2) put a value inside the variable: eg: character_name = 'John', character_age = '35'\n",
    "\n"
   ]
  },
  {
   "cell_type": "code",
   "execution_count": 4,
   "metadata": {},
   "outputs": [
    {
     "name": "stdout",
     "output_type": "stream",
     "text": [
      "there once was a man named Toom,\n",
      "he was 50 years old.\n",
      "he really liked the name Toom,\n",
      "but didnt like being 50.\n"
     ]
    }
   ],
   "source": [
    "# in order to put a variable in the print statement, have to do certain things. \n",
    "# 1) have to split the variable from the text. the comma at the back is a text, so have to put quotation marks also.\n",
    "# 2) inside instead of saying John, i wan to refer the character_name variable, + character_name + \n",
    "# 3) basically i'm saying wan to print out all the text, plus the value stored inside character_name, plus the comma behind. \n",
    "\n",
    "character_name = 'Toom'\n",
    "character_age = '50'\n",
    "print('there once was a man named ' + character_name + ',')\n",
    "print('he was ' + character_age + ' years old.')\n",
    "print('he really liked the name ' + character_name +',')\n",
    "print('but didnt like being ' + character_age + '.')"
   ]
  },
  {
   "cell_type": "code",
   "execution_count": 5,
   "metadata": {},
   "outputs": [
    {
     "name": "stdout",
     "output_type": "stream",
     "text": [
      "there once was a man named Toom,\n",
      "he was 50 years old.\n",
      "he really liked the name Mike,\n",
      "but didnt like being 50.\n"
     ]
    }
   ],
   "source": [
    "# halfway through the story, u wan change character name. just update the variable inside the story.\n",
    "character_name = 'Toom'\n",
    "character_age = '50'\n",
    "\n",
    "print('there once was a man named ' + character_name + ',')\n",
    "print('he was ' + character_age + ' years old.')\n",
    "\n",
    "character_name = 'Mike'\n",
    "print('he really liked the name ' + character_name +',')\n",
    "print('but didnt like being ' + character_age + '.')"
   ]
  },
  {
   "cell_type": "markdown",
   "metadata": {},
   "source": [
    "# different type of data stored inside variables\n",
    "\n",
    "### strings is just plain text\n",
    "#eg: 'toom' and 'there once was a man named' is a string\n",
    "\n",
    "###  numbers\n",
    "storing numbers, we dont need quotation marks. unlike for a string. can just write 50 or 50.5 etc\n",
    "\n",
    "### boolean\n",
    "True or False value. need to be capital. eg: is_male = True etc"
   ]
  },
  {
   "cell_type": "code",
   "execution_count": 6,
   "metadata": {},
   "outputs": [
    {
     "name": "stdout",
     "output_type": "stream",
     "text": [
      "Giraffe Academy\n",
      "Giraffe \n",
      "Academy\n",
      "Giraffe'Academy\n"
     ]
    }
   ],
   "source": [
    "# strings: \\n  \\ is the escape character. \n",
    "\n",
    "print('Giraffe Academy')\n",
    "\n",
    "print('Giraffe \\nAcademy')\n",
    "\n",
    "print('Giraffe\\'Academy')"
   ]
  },
  {
   "cell_type": "code",
   "execution_count": 7,
   "metadata": {},
   "outputs": [
    {
     "name": "stdout",
     "output_type": "stream",
     "text": [
      "Giraffe Academy\n"
     ]
    }
   ],
   "source": [
    "phrase = 'Giraffe Academy'\n",
    "print(phrase)"
   ]
  },
  {
   "cell_type": "code",
   "execution_count": 8,
   "metadata": {},
   "outputs": [
    {
     "name": "stdout",
     "output_type": "stream",
     "text": [
      "Giraffe Academy is cool\n",
      "giraffe academy\n",
      "GIRAFFE ACADEMY\n",
      "False\n",
      "True\n"
     ]
    },
    {
     "data": {
      "text/plain": [
       "True"
      ]
     },
     "execution_count": 8,
     "metadata": {},
     "output_type": "execute_result"
    }
   ],
   "source": [
    "# concatenation : process of taking a string and appending another string onto it\n",
    "\n",
    "print(phrase + ' is cool')\n",
    "\n",
    "# function to convert this string into lower case. \n",
    "print(phrase.lower())\n",
    "\n",
    "# convert to upper case.\n",
    "print(phrase.upper())\n",
    "\n",
    "# can check whether string is entirely uppercase or lowercase\n",
    "# will give boolean value (True or False)\n",
    "print(phrase.isupper())\n",
    "\n",
    "# can also use these functions in combination. *RMB always read left to right\n",
    "# python will run phrase.upper() function first, going convert to upper case, then run isupper() function right after that.\n",
    "print(phrase.upper().isupper())\n",
    "\n",
    "phrase.upper().isupper()\n",
    "\n",
    "# have to include print if u want to make out seperately"
   ]
  },
  {
   "cell_type": "code",
   "execution_count": 9,
   "metadata": {},
   "outputs": [
    {
     "name": "stdout",
     "output_type": "stream",
     "text": [
      "15\n",
      "G\n",
      "y\n",
      "d\n",
      "0\n",
      "8\n",
      "Ga\n"
     ]
    }
   ],
   "source": [
    "# length of string\n",
    "len(phrase) # includes the spacing\n",
    "print(len(phrase))\n",
    "\n",
    "# figuring the alphabets in the string\n",
    "print(phrase[0] )\n",
    "print(phrase[-1])\n",
    "print(phrase[11])\n",
    "\n",
    "# in python, when working with strings, a string gets indexed with starting with 0. backwards is starting with -1\n",
    "\n",
    "# a value given to a function is called Parameter.\n",
    "print(phrase.index('G')) # G in this case is the parameter\n",
    "\n",
    "print(phrase.index('Acad')) # this gives 8 because A is at 8 position.\n",
    "\n",
    "# start, stop, skip\n",
    "print(phrase[0:4:3]) # at the skip is 3, so skip 2 alphabets in between"
   ]
  },
  {
   "cell_type": "code",
   "execution_count": 10,
   "metadata": {},
   "outputs": [
    {
     "name": "stdout",
     "output_type": "stream",
     "text": [
      "Elephant Academy\n"
     ]
    }
   ],
   "source": [
    "# replacing. we can give this replace function 2 parameters\n",
    "print(phrase.replace('Giraffe', 'Elephant'))"
   ]
  },
  {
   "cell_type": "code",
   "execution_count": 11,
   "metadata": {},
   "outputs": [
    {
     "name": "stdout",
     "output_type": "stream",
     "text": [
      "1\n",
      "5\n",
      "5 my favourite number\n"
     ]
    }
   ],
   "source": [
    "# working with numbers\n",
    "\n",
    "#operators: + - / * %(modulus) **(exponentiation) //(floor division)\n",
    "\n",
    "# % modulus \n",
    "print(10 % 3) # 10 mod 3.  first number divided by the second number and spit out the remainder.\n",
    "\n",
    "# can score number in variables also\n",
    "my_num = 5\n",
    "print(my_num)\n",
    "\n",
    "# i can also convert the number into a string \n",
    "# this is useful when you want to print out numbers alongside strings\n",
    "print(str(my_num) + ' my favourite number') # if u dont convert the number to string, this will error "
   ]
  },
  {
   "cell_type": "code",
   "execution_count": 12,
   "metadata": {},
   "outputs": [
    {
     "name": "stdout",
     "output_type": "stream",
     "text": [
      "5\n",
      "9\n",
      "3\n",
      "4\n"
     ]
    }
   ],
   "source": [
    "# abs (absolute number)\n",
    "my_num = -5\n",
    "print(abs(my_num))\n",
    "\n",
    "# pow : can pass 2 pieces of information, first is gonna be a number, second is the power i want to take the number to.\n",
    "print(pow(3,2)) # basically 3**2\n",
    "\n",
    "#round\n",
    "print(round(3.4))  \n",
    "print(round(3.5))"
   ]
  },
  {
   "cell_type": "code",
   "execution_count": 13,
   "metadata": {},
   "outputs": [
    {
     "name": "stdout",
     "output_type": "stream",
     "text": [
      "3\n",
      "4\n",
      "6.0\n"
     ]
    }
   ],
   "source": [
    "# import external code into file\n",
    "from math import * # basically import everything from math (math is a module)\n",
    "print(floor(3.7))\n",
    "\n",
    "print(ceil(3.7))\n",
    "\n",
    "print(sqrt(36))"
   ]
  },
  {
   "cell_type": "code",
   "execution_count": 14,
   "metadata": {},
   "outputs": [
    {
     "name": "stdout",
     "output_type": "stream",
     "text": [
      "enter your name: mike\n",
      "Hello mike!\n"
     ]
    }
   ],
   "source": [
    "# getting input from users. to allow user to input information. we can store the info in a variable.\n",
    "\n",
    "# input() # telling python that we want to get input from a user, allowing user to type in some information.\n",
    "# within the parenthesis, we can include a prompt that tells the user what we want them to enter.\n",
    "\n",
    "name = input('enter your name: ')\n",
    "print('Hello ' + name + '!') # variable is not a string! # behind the hello need a space\n"
   ]
  },
  {
   "cell_type": "code",
   "execution_count": 15,
   "metadata": {},
   "outputs": [
    {
     "name": "stdout",
     "output_type": "stream",
     "text": [
      "enter your name: john\n",
      "Enter your age: 25\n",
      "Hello john! You are 25\n"
     ]
    }
   ],
   "source": [
    "# u can make the user enter more than one piece of information\n",
    "\n",
    "name = input('enter your name: ')\n",
    "age = input('Enter your age: ')\n",
    "print('Hello ' + name + '! You are ' + age)"
   ]
  },
  {
   "cell_type": "code",
   "execution_count": 16,
   "metadata": {},
   "outputs": [
    {
     "name": "stdout",
     "output_type": "stream",
     "text": [
      "Enter a number: 2\n",
      "Enter another number: 3\n",
      "5\n"
     ]
    }
   ],
   "source": [
    "# building a basic calculator \n",
    "# get two numbers from a user and add both numbers tgt and print the ans out on screen.\n",
    "\n",
    "num1 = input('Enter a number: ')  # when we get input from user, by default, python will convert it into a string. \n",
    "num2 = input('Enter another number: ')\n",
    "result = (int(num1) + int(num2))\n",
    "print(result)"
   ]
  },
  {
   "cell_type": "code",
   "execution_count": 19,
   "metadata": {},
   "outputs": [
    {
     "name": "stdout",
     "output_type": "stream",
     "text": [
      "Enter a number: 3\n",
      "Enter another number: 32.1\n",
      "35.1\n"
     ]
    }
   ],
   "source": [
    "# however this code will give an error if u input decimal numbers instead of whole \n",
    "# this is because u using int function, which is looking for a whole number, so if u put decimal numbers will break the program\n",
    "# so this case, we put float. for calculators, we wan them to enter any number they wan, so we use float function.\n",
    "num1 = input('Enter a number: ')  \n",
    "num2 = input('Enter another number: ')\n",
    "result = (float(num1) + float(num2))\n",
    "print(result)\n"
   ]
  },
  {
   "cell_type": "code",
   "execution_count": 24,
   "metadata": {},
   "outputs": [
    {
     "name": "stdout",
     "output_type": "stream",
     "text": [
      "Enter a color: black\n",
      "Enter a plural noun: dfdg\n",
      "Enter a celebrity: tom\n",
      "Roses are black\n",
      "dfdg are blue\n",
      "I love tom\n"
     ]
    }
   ],
   "source": [
    "# Mad Libs game\n",
    "# wan user to enter the color, plural noun and celebrity.\n",
    "\n",
    "color = input('Enter a color: ')\n",
    "plural_noun = input('Enter a plural noun: ')\n",
    "celebrity = input('Enter a celebrity: ')\n",
    "\n",
    "print('Roses are ' + color)\n",
    "print(plural_noun +  ' are blue')\n",
    "print('I love ' + celebrity)"
   ]
  },
  {
   "cell_type": "code",
   "execution_count": 2,
   "metadata": {},
   "outputs": [
    {
     "name": "stdout",
     "output_type": "stream",
     "text": [
      "['Kevin', 'Karen', 'Jim']\n",
      "Jim\n",
      "['Karen', 'Jim']\n"
     ]
    }
   ],
   "source": [
    "# lists\n",
    "# can use to store list of information, can take bunch of data values, put them in a list etc.\n",
    "# first thing to do a list is to give it a name, to describe it.\n",
    "\n",
    "friends = ['Kevin', 'Karen', 'Jim']  # square brackets for list\n",
    "# can put strings, numbers or booleans , python can recognise. friends = ['kevin', 2 , False]\n",
    "\n",
    "print(friends)\n",
    "\n",
    "# u can refer to the individual elements by their index\n",
    "print(friends[-1])\n",
    "\n",
    "# if i want to select the last two.\n",
    "print(friends[1:])  3 # will only give karen if u put friends[1:2]"
   ]
  },
  {
   "cell_type": "code",
   "execution_count": 6,
   "metadata": {},
   "outputs": [
    {
     "name": "stdout",
     "output_type": "stream",
     "text": [
      "['Karen', 'Jim']\n",
      "Mike\n",
      "['Kevin', 'Mike', 'Jim', 'Oscar', 'Toby']\n"
     ]
    }
   ],
   "source": [
    "friends = ['Kevin', 'Karen', 'Jim', 'Oscar', 'Toby']\n",
    "print(friends[1:3]) # grab the elements from karen and to Jim but not including 3.\n",
    "\n",
    "# if I want to modify the value karen \n",
    "friends[1] = 'Mike'\n",
    "print(friends[1])\n",
    "print(friends)"
   ]
  },
  {
   "cell_type": "code",
   "execution_count": 16,
   "metadata": {},
   "outputs": [
    {
     "name": "stdout",
     "output_type": "stream",
     "text": [
      "['Kevin', 'Karen', 'Jim', 'Oscar', 'Toby']\n",
      "['Kevin', 'Karen', 'Jim', 'Oscar', 'Toby', 4, 8, 15, 16, 23, 42]\n",
      "['Kevin', 'Karen', 'Jim', 'Oscar', 'Toby', 4, 8, 15, 16, 23, 42, 'Creed']\n",
      "['Kevin', 'Kelly', 'Karen', 'Jim', 'Oscar', 'Toby', 4, 8, 15, 16, 23, 42, 'Creed']\n"
     ]
    },
    {
     "data": {
      "text/plain": [
       "['Kevin', 'Kelly', 'Karen', 'Oscar', 'Toby', 4, 8, 15, 16, 23, 42]"
      ]
     },
     "execution_count": 16,
     "metadata": {},
     "output_type": "execute_result"
    }
   ],
   "source": [
    "# list functions\n",
    "\n",
    "lucky_numbers = [4,8,15,16,23,42]\n",
    "friends = ['Kevin', 'Karen', 'Jim', 'Oscar', 'Toby']\n",
    "print(friends)\n",
    "\n",
    "# extend function =  basically allow you to take a list and append another list onto the end of it\n",
    "friends.extend(lucky_numbers)\n",
    "print(friends)\n",
    "\n",
    "# append function = can also just add individual elements into a list ,* always add to end of the list\n",
    "friends.append('Creed')\n",
    "print(friends)\n",
    "\n",
    "# but if u want to add in the middle of the list. insert function\n",
    "# 2 parameters, 1st one is index where u want to insert the item, 2nd is the name of item\n",
    "friends.insert(1,'Kelly')\n",
    "print(friends)\n",
    "\n",
    "#can remove also\n",
    "friends.remove('Jim')\n",
    "friends\n",
    "\n",
    "friends.pop() # get rid of last element on the list.\n",
    "friends\n",
    "\n",
    "# get rid of everything. \n",
    "# friends.clear()\n",
    "\n"
   ]
  },
  {
   "cell_type": "code",
   "execution_count": 30,
   "metadata": {},
   "outputs": [
    {
     "name": "stdout",
     "output_type": "stream",
     "text": [
      "3\n",
      "4\n",
      "2\n",
      "['Jim', 'Jim', 'Karen', 'Kevin', 'Oscar', 'Toby']\n",
      "[4, 8, 15, 16, 23, 42]\n",
      "[42, 23, 16, 15, 8, 4]\n"
     ]
    }
   ],
   "source": [
    "# if i wanted to check a value is in the list.\n",
    "print(friends.index('Kevin')) # it gives the index of the value.\n",
    "\n",
    "friends = ['Kevin', 'Karen', 'Jim', 'Jim', 'Oscar', 'Toby']\n",
    "\n",
    "print(friends.index('Oscar'))\n",
    "# print(friends.index('Mike')) # it is not in the list.\n",
    "\n",
    "# count the number of similar elements in the list \n",
    "print(friends.count('Jim'))\n",
    "\n",
    "friends.sort( ) # put it in alphabetical order\n",
    "print(friends)\n",
    "\n",
    "lucky_numbers.sort()\n",
    "print(lucky_numbers)\n",
    "\n",
    "lucky_numbers.reverse()\n",
    "print(lucky_numbers)\n",
    "\n",
    "friends2 = friends.copy() #same attribute as friends"
   ]
  },
  {
   "cell_type": "code",
   "execution_count": 1,
   "metadata": {},
   "outputs": [
    {
     "ename": "TypeError",
     "evalue": "'tuple' object does not support item assignment",
     "output_type": "error",
     "traceback": [
      "\u001b[1;31m---------------------------------------------------------------------------\u001b[0m",
      "\u001b[1;31mTypeError\u001b[0m                                 Traceback (most recent call last)",
      "\u001b[1;32m<ipython-input-1-9a851da78dc9>\u001b[0m in \u001b[0;36m<module>\u001b[1;34m\u001b[0m\n\u001b[0;32m      8\u001b[0m \u001b[1;33m\u001b[0m\u001b[0m\n\u001b[0;32m      9\u001b[0m \u001b[1;31m#immutable\u001b[0m\u001b[1;33m\u001b[0m\u001b[1;33m\u001b[0m\u001b[1;33m\u001b[0m\u001b[0m\n\u001b[1;32m---> 10\u001b[1;33m \u001b[0mcoordinates\u001b[0m\u001b[1;33m[\u001b[0m\u001b[1;36m1\u001b[0m\u001b[1;33m]\u001b[0m \u001b[1;33m=\u001b[0m \u001b[1;36m2\u001b[0m\u001b[1;33m\u001b[0m\u001b[1;33m\u001b[0m\u001b[0m\n\u001b[0m\u001b[0;32m     11\u001b[0m \u001b[1;33m\u001b[0m\u001b[0m\n\u001b[0;32m     12\u001b[0m \u001b[0mprint\u001b[0m\u001b[1;33m(\u001b[0m\u001b[0mcoordinates\u001b[0m\u001b[1;33m[\u001b[0m\u001b[1;36m0\u001b[0m\u001b[1;33m]\u001b[0m\u001b[1;33m)\u001b[0m \u001b[1;31m# inside the square brackets, u put in the index of the tuple. 0 = 4, 1 = 5\u001b[0m\u001b[1;33m\u001b[0m\u001b[1;33m\u001b[0m\u001b[0m\n",
      "\u001b[1;31mTypeError\u001b[0m: 'tuple' object does not support item assignment"
     ]
    }
   ],
   "source": [
    "# tuples \n",
    "# -> it is a container where we can store different values. a tuple is very similar to a list. basically a structure\n",
    "# where we can store multiple pieces of information. But got some key differences compared to a list.\n",
    "\n",
    " # tuples is immutable. It means it cannot be changed or modified. once u create it, u cant change it.\n",
    "\n",
    "coordinates = (4, 5)\n",
    "\n",
    "#immutable\n",
    "coordinates[1] = 2 # will get error. u cannot change it.\n",
    "\n",
    "print(coordinates[0]) # inside the square brackets, u put in the index of the tuple. 0 = 4, 1 = 5\n"
   ]
  },
  {
   "cell_type": "code",
   "execution_count": 2,
   "metadata": {},
   "outputs": [],
   "source": [
    "# difference between list and tuple. for list u use square brackets, for tuple u use parathesis.\n",
    "# for list u can change the values anytime u wan, but tuple cannot.\n",
    "\n",
    "# practical use case, people will use tuple for data thats never gonna change.\n",
    "# u can also coordinates = [(4,5), (3,4), (3,3)]\n"
   ]
  },
  {
   "cell_type": "code",
   "execution_count": 5,
   "metadata": {},
   "outputs": [
    {
     "name": "stdout",
     "output_type": "stream",
     "text": [
      "Top\n",
      "Hello User\n",
      "Bottom\n"
     ]
    }
   ],
   "source": [
    "# functions - a collection of code that performs a specific task\n",
    "# take a bunch of lines of code that basically doing one thing, i put it inside a function, then when i wanted to do that one thing.\n",
    "# i can just call the function, they help us organize the code btr and break up the code into little chunks that are doing differnt things\n",
    "\n",
    "# how to create a function? \n",
    "# for this, we are going to create a function that is going to say hi to the users.\n",
    "\n",
    "# to write a function, first thing we have to use is a keyword called 'def'\n",
    "# when python sees this keyword, it knows we want to use a function. after we type out def, we need to give this function a name.\n",
    "\n",
    "# its okay to write a two word like this, or say_hi (with an underscore)\n",
    "# typing a colon after, is telling python that all the code that comes after sayhi is going to be inside the function.\n",
    "# in order to write code that is going to be inside the function, we have to indent it. (it will automatically indent)\n",
    "# if it is not indented, it is not considered to be inside the function\n",
    "def say_hi():\n",
    "    print('Hello User')\n",
    "    \n",
    "# if i want to execute the code inside this function, i have to do something called calling it.\n",
    "# writing function, we want to have additional information that get passed in, these are called parameters.\n",
    "\n",
    "print(\"Top\")\n",
    "say_hi()\n",
    "print('Bottom')"
   ]
  },
  {
   "cell_type": "code",
   "execution_count": 9,
   "metadata": {},
   "outputs": [
    {
     "name": "stdout",
     "output_type": "stream",
     "text": [
      "Hello Mike\n",
      "Hello Steve\n"
     ]
    }
   ],
   "source": [
    "def say_hi(name):  # in this case, name is a parameter\n",
    "    print('Hello ' + name)\n",
    "    \n",
    "say_hi('Mike')\n",
    "say_hi('Steve')"
   ]
  },
  {
   "cell_type": "code",
   "execution_count": 10,
   "metadata": {},
   "outputs": [
    {
     "name": "stdout",
     "output_type": "stream",
     "text": [
      "Hello Mike, you are 70\n",
      "Hello Steve, you are 55\n"
     ]
    }
   ],
   "source": [
    "def say_hi(name, age):\n",
    "    print('Hello ' + name + ', you are ' + age )\n",
    "    \n",
    "say_hi('Mike', '70')\n",
    "say_hi('Steve', '55')"
   ]
  },
  {
   "cell_type": "code",
   "execution_count": 12,
   "metadata": {},
   "outputs": [
    {
     "name": "stdout",
     "output_type": "stream",
     "text": [
      "Hello Mike, you are 70\n",
      "Hello Steve, you are 55\n"
     ]
    }
   ],
   "source": [
    "# '70' is a string, while 70 is an integer.\n",
    "\n",
    "def say_hi(name, age):\n",
    "    print('Hello ' + name + ', you are ' + str(age) )\n",
    "    \n",
    "say_hi('Mike', 70) # i can put the age as an integer instead of a string\n",
    "say_hi('Steve', 55)"
   ]
  },
  {
   "cell_type": "code",
   "execution_count": 14,
   "metadata": {},
   "outputs": [
    {
     "name": "stdout",
     "output_type": "stream",
     "text": [
      "None\n"
     ]
    }
   ],
   "source": [
    "# return statement\n",
    "# sometimes when we call a function we actually want to get information back from that function. can be particular value,\n",
    "# or how the task went.. etcc. \n",
    "# that is what the return keyword do, return keyword allow python to return information from a function. \n",
    "\n",
    "def cube(num):\n",
    "    num**3 # or num*num*num\n",
    "print(cube(3))\n",
    "\n",
    "# we got none, but this function is supposed to be cubing the number. "
   ]
  },
  {
   "cell_type": "code",
   "execution_count": 19,
   "metadata": {},
   "outputs": [
    {
     "name": "stdout",
     "output_type": "stream",
     "text": [
      "27\n"
     ]
    }
   ],
   "source": [
    "def cube(num):\n",
    "    return num**3 # python is going to return whatever value we put over here to the right. \n",
    "# python will execute and when it sees the return statement, i wan to give a value back to call this function. its going to \n",
    "# return num**3\n",
    "# return can be think of a break\n",
    "\n",
    "result = cube(3)\n",
    "print(result)"
   ]
  },
  {
   "cell_type": "code",
   "execution_count": 1,
   "metadata": {},
   "outputs": [
    {
     "name": "stdout",
     "output_type": "stream",
     "text": [
      "You are a male\n"
     ]
    }
   ],
   "source": [
    "# if statements\n",
    "# if statements are a special structure in python that we can help our programs to make decisions. \n",
    "# by using an if statement, i could execute certain code when certain conditions are true and execute other code when other conditions are true.\n",
    "# if statements allow our programs to respond to the input they are given depending on the data we using in the program. \n",
    "\n",
    "is_male = True\n",
    " # the is_male portion, can be other things, but has to be able to reduce to a true or false value.\n",
    "    \n",
    "if is_male:\n",
    "    print('You are a male')  # anything i put below if is_male with an indentation is going to be executed when the condition is true.\n"
   ]
  },
  {
   "cell_type": "code",
   "execution_count": 2,
   "metadata": {},
   "outputs": [],
   "source": [
    "is_male = False\n",
    "\n",
    "if is_male:\n",
    "    print('You are a male')\n",
    "# not going to print anything in this case, thats because this condition wasnt true.\n",
    "# the other part to if statements is else. "
   ]
  },
  {
   "cell_type": "code",
   "execution_count": 3,
   "metadata": {},
   "outputs": [
    {
     "name": "stdout",
     "output_type": "stream",
     "text": [
      "You are not a male\n"
     ]
    }
   ],
   "source": [
    "is_male = False\n",
    "\n",
    "if is_male:\n",
    "    print('You are a male')\n",
    "else: \n",
    "    print('You are not a male')"
   ]
  },
  {
   "cell_type": "code",
   "execution_count": 2,
   "metadata": {},
   "outputs": [
    {
     "name": "stdout",
     "output_type": "stream",
     "text": [
      "You are a male or tall or both\n"
     ]
    }
   ],
   "source": [
    "# if, or , else. These functions used. \n",
    "\n",
    "is_male = True\n",
    "is_tall = True\n",
    "\n",
    "if is_male or is_tall:   # this is only going to be true when one or both of these values is true.  \n",
    "    print('You are a male or tall or both')  \n",
    "else: \n",
    "    print('You are neither male or tall') # If we execute the code inside of else, that means that both of the values are false\n",
    "# basically, if they are male or they are tall, we going to execute whatever is in the first print. otherwise, that means they are neither male nor tall. we going to execute the second print.\n",
    "# can play around is_male to be False, or is_tall to be False.\n",
    "# only when u set both as False, its gonna print you are neither male or tall."
   ]
  },
  {
   "cell_type": "code",
   "execution_count": 2,
   "metadata": {},
   "outputs": [
    {
     "name": "stdout",
     "output_type": "stream",
     "text": [
      "You are either not male or not tall or both\n"
     ]
    }
   ],
   "source": [
    "is_male = True\n",
    "is_tall = False\n",
    "\n",
    "if is_male and is_tall:   # if u put an and, it means both conditions must be true. so if the person is both male and tall, first print\n",
    "    print('You are a tall male')  \n",
    "else: \n",
    "    print('You are either not male or not tall or both')\n",
    "\n",
    "# for now we chking whether if they male and they tall, but what if i wanted to check if they are male and not tall. so eg \n",
    "# short male"
   ]
  },
  {
   "cell_type": "code",
   "execution_count": 7,
   "metadata": {},
   "outputs": [
    {
     "name": "stdout",
     "output_type": "stream",
     "text": [
      "You are not a male and not tall\n"
     ]
    }
   ],
   "source": [
    "# for now we chking whether if they male and they tall, but what if i wanted to check if they are male and not tall. so eg \n",
    "# eg: short male\n",
    "# use the elif function (stands for else if)\n",
    "\n",
    "is_male = False\n",
    "is_tall = False\n",
    "\n",
    "if is_male and is_tall:   # if u put an and, it means both conditions must be true. so if the person is both male and tall, first print\n",
    "    print('You are a tall male')  \n",
    "    \n",
    "elif is_male and not(is_tall): # below indentation u type the code that we want happen if when these conditions is true\n",
    "    print('You are a short male')\n",
    "# using the not() function is going to negate whatever inside parathesis. if inside is true, will make it false. if inside false, will make it true.\n",
    "\n",
    "elif not(is_male) and is_tall: # check not male and they are tall\n",
    "    print('You are not a male but are tall') # think this can only prove person not a male, cannot assume is female\n",
    "\n",
    "else: \n",
    "    print('You are not a male and not tall')\n"
   ]
  },
  {
   "cell_type": "code",
   "execution_count": 1,
   "metadata": {},
   "outputs": [
    {
     "name": "stdout",
     "output_type": "stream",
     "text": [
      "40\n"
     ]
    }
   ],
   "source": [
    "# using if statements with comparisons\n",
    "# want to create a python function (Rmb def) , this function is going to gives us the maximum number that we pass into it \n",
    "\n",
    "# specify three parameters as input. we passing these 3 numbers, and this function will return highest number\n",
    "# num1 >= num2 and num1 >= num 3 is going to end up either true or false value\n",
    "\n",
    "# comparison operators: >= (greater or equal to), != (not equal), > , < , <= etc etc\n",
    "\n",
    "def max_num(num1, num2, num3):\n",
    "    if num1 >= num2 and num1 >= num3:\n",
    "        return num1\n",
    "    elif num2 >= num1 and num2 >= num3:\n",
    "        return num2\n",
    "    else:\n",
    "        return num3\n",
    "        \n",
    "print(max_num(3,40,5))\n",
    "    \n",
    "# in this case, we are comparing numbers, but we could also compare strings.\n",
    "\n",
    "# eg: 'dog' == 'dog'\n"
   ]
  },
  {
   "cell_type": "code",
   "execution_count": 4,
   "metadata": {},
   "outputs": [
    {
     "name": "stdout",
     "output_type": "stream",
     "text": [
      "Enter first number: 1\n",
      "Enter operator: /\n",
      "Enter second number: 3\n",
      "0.3333333333333333\n"
     ]
    }
   ],
   "source": [
    "# building a better calculator, for a calculator we need input from the user.\n",
    "# in python, when we get input from user, no matter what they put in will be converted to a string. but a string cant be subtracted etc\n",
    "\n",
    "num1 = float(input('Enter first number: ')) # this means that user have to insert a number otherwise we'll get an error\n",
    "op = input('Enter operator: ')\n",
    "num2= float(input('Enter second number: '))\n",
    "\n",
    "if op == '+':\n",
    "    print(num1 + num2)\n",
    "elif op == '-':\n",
    "    print(num1 - num2)\n",
    "elif op == '/':\n",
    "    print(num1 / num2)\n",
    "elif op =='*':\n",
    "    print(num1 * num2)\n",
    "# in case the user enters in an operation that is not one of the 4 we specified, i just wan to throw an error.\n",
    "else: \n",
    "    print('invalid operator')\n",
    "    \n",
    "    \n",
    "    \n",
    "    "
   ]
  },
  {
   "cell_type": "code",
   "execution_count": 8,
   "metadata": {},
   "outputs": [
    {
     "name": "stdout",
     "output_type": "stream",
     "text": [
      "November\n",
      "December\n",
      "One\n",
      "Not a valid key\n"
     ]
    }
   ],
   "source": [
    "# dictionaries\n",
    "# it is a special structure in python which allows us to store information in key value pairs \n",
    "# i can create a bunch of these key value pairs, then when i want to access a specific piece of information inside of the dictionary, i can just refer to it by its key\n",
    "# in a normal dictionary, u have a definition linked to the word. so in this situation, the word would be the key. the word is what uniquely identifies it inside of the dictionary\n",
    "\n",
    "# creating a program that allow us to convert a three digit month name into the full month name. eg: jan -> january , mar -> march\n",
    "\n",
    "# for dictionaries in python, always use curly brackets\n",
    "\n",
    "monthConversions = {\n",
    "    'Jan':'January',  # rmb dictionaries uses key value pairs. Jan will be the key, January will be the value\n",
    "    'Feb':'February', # all the keys have to be unique, u cant have two same keys. \n",
    "    'Mar':'March',    # keys does not have to be strings, it can be numbers\n",
    "    'Apr':'April',\n",
    "    'May':'May',\n",
    "    'Jun':'June',\n",
    "    'Jul':'July',\n",
    "    'Aug':'August',\n",
    "    'Sep':'September',\n",
    "    'Oct':'October',\n",
    "    'Nov':'November',\n",
    "    'Dec':'December',\n",
    "    '1':'One'\n",
    "}\n",
    "\n",
    "# there are different ways that I can access these month names\n",
    "print(monthConversions['Nov'])\n",
    "print(monthConversions.get('Dec'))\n",
    "print(monthConversions['1'])\n",
    "\n",
    "# using the get function, I can actually specify a default value i want to use if the key i typed in is not found.\n",
    "# normally i would get back a none, but i want to specify it\n",
    "print(monthConversions.get('Luv', 'Not a valid key'))\n",
    " "
   ]
  },
  {
   "cell_type": "code",
   "execution_count": 9,
   "metadata": {},
   "outputs": [
    {
     "name": "stdout",
     "output_type": "stream",
     "text": [
      "1\n",
      "2\n",
      "3\n",
      "4\n",
      "5\n",
      "6\n",
      "7\n",
      "8\n",
      "9\n",
      "10\n",
      "Done with loop\n"
     ]
    }
   ],
   "source": [
    "# while loop\n",
    "# a structure in python that allow us to loop through and execute a block of code multiple times\n",
    "# loop the code until a certain condition was false\n",
    "\n",
    "# create an integer first, basically a variable thats a number. not necessarily for while loop, just for this demonstration.\n",
    "i = 1\n",
    "# while condition   \n",
    "# loop condition or loop guard. we going to keep looping through the code inside the while loop as long as this condition is true.\n",
    "\n",
    "while i <= 10:\n",
    "    print(i)\n",
    "    i = i + 1 # another way of saying this is i += 1\n",
    "    \n",
    "print('Done with loop')\n",
    "\n",
    "# so the process behind this is, first thing python is going to do when it gets to this while loop, is check the condition. \n",
    "# as long as condition holds True, it will proceed. print i at first which is one. then gonna add one to i which becomes 2. \n",
    "# python then goes back to the while loop and check the condition again. as long as condition holds true, will loop the code."
   ]
  },
  {
   "cell_type": "code",
   "execution_count": 14,
   "metadata": {},
   "outputs": [
    {
     "name": "stdout",
     "output_type": "stream",
     "text": [
      "Enter Guess: Girrafe\n",
      "You Win!\n"
     ]
    }
   ],
   "source": [
    "# building a basic guessing game\n",
    "# we will specify a secret word, a secret word that we store inside of our program. user can interact with program and try to guess the secret word.\n",
    "# what we want to happen is we want the user to be able to keep guessing what the secret word is and keep typing in different responses until they get it right.\n",
    "\n",
    "secret_word = 'Girrafe'\n",
    "guess = '' # '' is an empty string\n",
    "guess_count = 0\n",
    "guess_limit = 3\n",
    "out_of_guesses = False # this variable tells us whether or not the user is out of guesses, so if out of guesses is true, that means they lost the game\n",
    "\n",
    "while guess != secret_word and not(out_of_guesses):\n",
    "    if guess_count < guess_limit:\n",
    "        guess = input('Enter Guess: ') # bbefore i let the users enter a guess, i want to check whether they still have guesses or not.\n",
    "        guess_count += 1\n",
    "    else:\n",
    "        out_of_guesses = True\n",
    "\n",
    "# when we break out of this loop, there is 2 possible scenarios\n",
    "if out_of_guesses:\n",
    "    print('Out of Guesses, you lose!')\n",
    "else:\n",
    "    print('You Win!')"
   ]
  },
  {
   "cell_type": "code",
   "execution_count": 15,
   "metadata": {},
   "outputs": [
    {
     "name": "stdout",
     "output_type": "stream",
     "text": [
      "G\n",
      "i\n",
      "r\n",
      "a\n",
      "f\n",
      "f\n",
      "e\n",
      " \n",
      "A\n",
      "c\n",
      "a\n",
      "d\n",
      "e\n",
      "m\n",
      "y\n"
     ]
    }
   ],
   "source": [
    "# for loop\n",
    "# a special type of loop in python which allows us to loop over a different collections of items\n",
    "# some use cases: loop through different arrays, or we can loop over the letters inside of a string or we can just loop through a series of numbers\n",
    "\n",
    "# specify a variable, this variable is going to represent a different value everytime we go through this for loop\n",
    "\n",
    "for letter in 'Giraffe Academy': # this means that for every letter inside Girrafe Academy, I wan to do something\n",
    "    print(letter)\n",
    "\n"
   ]
  },
  {
   "cell_type": "code",
   "execution_count": 19,
   "metadata": {},
   "outputs": [
    {
     "name": "stdout",
     "output_type": "stream",
     "text": [
      "Jim\n",
      "Karen\n",
      "Kevin\n",
      "Jim\n",
      "Karen\n",
      "Kevin\n",
      "0\n",
      "1\n",
      "2\n",
      "3\n",
      "4\n",
      "5\n",
      "6\n",
      "7\n",
      "8\n",
      "9\n",
      "3\n",
      "4\n",
      "5\n",
      "6\n",
      "7\n",
      "8\n",
      "9\n"
     ]
    }
   ],
   "source": [
    "# continuation of for loops\n",
    "\n",
    "friends = ['Jim', 'Karen', 'Kevin']\n",
    "for friend in friends:\n",
    "    print(friend)\n",
    "\n",
    "for name in friends:\n",
    "    print(name)\n",
    "    \n",
    "for index in range(10): # 0 to 10 not including 10\n",
    "    print(index)\n",
    "    \n",
    "for index in range(3,10): # print 3 to 10 not including 10\n",
    "    print(index)"
   ]
  },
  {
   "cell_type": "code",
   "execution_count": 22,
   "metadata": {},
   "outputs": [
    {
     "name": "stdout",
     "output_type": "stream",
     "text": [
      "0\n",
      "1\n",
      "2\n"
     ]
    }
   ],
   "source": [
    "# to figure out how many elements inside the array \n",
    "len(friends)\n",
    "\n",
    "for index in range(len(friends)):\n",
    "    print(index) # or print(friends[index]) to get the names"
   ]
  },
  {
   "cell_type": "code",
   "execution_count": 23,
   "metadata": {},
   "outputs": [
    {
     "name": "stdout",
     "output_type": "stream",
     "text": [
      "first iteration\n",
      "not first\n",
      "not first\n",
      "not first\n",
      "not first\n"
     ]
    }
   ],
   "source": [
    " for index in range(5):\n",
    "    if index == 0: \n",
    "        print('first iteration')\n",
    "    else:\n",
    "        print('not first')"
   ]
  },
  {
   "cell_type": "code",
   "execution_count": 26,
   "metadata": {},
   "outputs": [
    {
     "name": "stdout",
     "output_type": "stream",
     "text": [
      "8\n",
      "16\n"
     ]
    }
   ],
   "source": [
    "# exponent function\n",
    "\n",
    "print(2**3) # now we gonna use for loops to do it\n",
    "\n",
    "def raise_to_power(base_num, pow_num):\n",
    "    result = 1\n",
    "    for index in range(pow_num): # basically loop through this for loop as many times as pow_num, so if pow num is 2 we loop through it twice and etc\n",
    "            result = result * base_num # the actual result from doing the math is going to be stored in the result variable\n",
    "    return result\n",
    "\n",
    "print(raise_to_power(2,4))\n",
    "\n",
    "# logic: we have a variable called result which stores the actual result of doing the math. after that, we are saying\n",
    "# we want to loop through the range of numbers, when i put pow_num in the parenthesis, it means its going to range from zero\n",
    "# all the way up to but not including the power number\n",
    "# everytime through the loop, we just multiplying result by base_num, then we returning results"
   ]
  },
  {
   "cell_type": "code",
   "execution_count": 3,
   "metadata": {},
   "outputs": [
    {
     "name": "stdout",
     "output_type": "stream",
     "text": [
      "1\n",
      "8\n",
      "1\n",
      "2\n",
      "3\n",
      "4\n",
      "5\n",
      "6\n",
      "7\n",
      "8\n",
      "9\n",
      "0\n"
     ]
    }
   ],
   "source": [
    "# 2D lists and Nested Loops\n",
    "# basic lists is just variable = [1, 2, 3, 4] etc. but 2D lists, the element is a list  \n",
    "number_grid = [\n",
    "    [1, 2, 3],\n",
    "    [4, 5, 6],\n",
    "    [7, 8, 9],\n",
    "    [0]\n",
    "]\n",
    "print(number_grid[0][0])  # first square bracket is the row, second square bracket is the column.\n",
    "\n",
    "# example if i want to get the number 8 # rmb that starts from 0, no matter row or column\n",
    "print(number_grid[2][1])\n",
    "\n",
    "# nested for loop\n",
    "# basically is a for loop inside a for loop\n",
    "# going to use the nested for loop to print out all the elements inside this array above\n",
    "\n",
    "for row in number_grid:\n",
    "    for col in row:  # this is going to give us each individual column or each individual element inside of these arrays. \n",
    "        print(col)"
   ]
  },
  {
   "cell_type": "markdown",
   "metadata": {},
   "source": [
    "### What is the use of Islower () and Isupper () method?\n",
    "\n",
    "Python String isupper() is an inbuilt function that returns “True” if all the characters in the string are uppercase.\n",
    "\n",
    "Python String islower() is an inbuilt function that returns “True” if all the characters in the string are lowercase. \n",
    "These are the built-in method used for string handling"
   ]
  },
  {
   "cell_type": "code",
   "execution_count": 4,
   "metadata": {},
   "outputs": [
    {
     "name": "stdout",
     "output_type": "stream",
     "text": [
      "Enter a phrase: On\n",
      "Gn\n"
     ]
    }
   ],
   "source": [
    "# build a translator\n",
    "# python can take in strings ( like a word or a phrase) and be able to translate it into a different language\n",
    "\n",
    "# Giraffe language\n",
    "# vowels -> g\n",
    "# dog -> dgg , cat -> cgt \n",
    "\n",
    "def translate(phrase): # to start making a translator, start by define a translate function, inside the parathesis we want it to take one piece of information, which is going to be the phrase that we want to translate, so we put phrase\n",
    "    translation = ''# we want to loop through every letter of the phrase, if its vowel we change it to g, if its not we leave it alone.\n",
    "    for letter in phrase:\n",
    "        if letter.lower() in 'aeiou': # i can make this part more efficient, if letter.lower() in 'aeiou'. it converts all upper case to lower case\n",
    "            if letter.isupper():\n",
    "                translation = translation + 'G'\n",
    "            else:\n",
    "                translation = translation + 'g' # if the letter is a vowel, we just wan to convert it into g\n",
    "        else:\n",
    "            translation = translation + letter\n",
    "    return translation\n",
    "\n",
    "print(translate(input('Enter a phrase: ')))\n",
    "            \n",
    "# currently, there is the problem that if the word i translate start with vowel. On, it will print out gn (lower case g, not upper case)\n",
    "# so i add in another if statement. if letter.isupper\n",
    "            "
   ]
  },
  {
   "cell_type": "markdown",
   "metadata": {},
   "source": [
    "### Try except\n",
    "\n",
    "-> catching errors in python, when we write programs, we might encounter errors or exceptions. this will stop our program from running. \n",
    "\n",
    "-> what we can do is we can watch out for certain specific errors that is going to pop out in our program and we can actually handle them. instead of our program breaking and stop executing, we can handle the errors and do things when they occur\"\n"
   ]
  },
  {
   "cell_type": "code",
   "execution_count": 10,
   "metadata": {},
   "outputs": [
    {
     "name": "stdout",
     "output_type": "stream",
     "text": [
      "Enter a number: 4\n",
      "4\n",
      "err\n"
     ]
    }
   ],
   "source": [
    "number = int(input('Enter a number: '))\n",
    "print(number)\n",
    "\n",
    "# in this case, if i enter a text instead of a number, i would get an error.\n",
    "# however, u dw ur program to break when someone forget to enter a number, you wan to be able to handle all different situations\n",
    "# to do this we can use smth called try except block\n",
    "\n",
    "# try except block will allow our programs to try out a piece of code, and if everything goes well great\n",
    "# but if they dont enter correctly, like text, means they entered a string instead of int (number)\n",
    "# we could tell them, hey u entered the wrong thing\n",
    "\n",
    "\n",
    "try:\n",
    "    answer = 10/0\n",
    "    number = int(input('Enter a number: '))\n",
    "    print(number)\n",
    "# except: # altho it works, however, except can be too broad exception clause. this is a message we getting because when i just say except, this catches any error under the sun\n",
    "    #print('Invalid Input')\n",
    "# we can accept/except different kinds of errors.\n",
    "# in this case, we got 1) division by zero error 2) an invalid input error \n",
    "# so i can add more except blocks, specifying the type of error i want to catch \n",
    "\n",
    "except ZeroDivisionError as err: \n",
    "    print('err')\n",
    "except ValueError:\n",
    "    print('invalid input')\n",
    "    \n",
    "# we can store the error as a variable too!! \n",
    "# its btr to practice to except specific errors"
   ]
  },
  {
   "cell_type": "markdown",
   "metadata": {},
   "source": [
    "A good way to remember the difference between a backslash and a forward slash is that a backslash leans backwards ( \\ ), while a forward slash leans forward ( / ). In Windows, backslashes are used to separate directories in file paths (ex: C:\\Program Files\\Common Files\\microsoft shared\\)"
   ]
  },
  {
   "cell_type": "code",
   "execution_count": 2,
   "metadata": {},
   "outputs": [
    {
     "ename": "FileNotFoundError",
     "evalue": "[Errno 2] No such file or directory: 'C:\\\\Users\\\\tun_w\\\\Desktop\\\\python\\\\employees.txt'",
     "output_type": "error",
     "traceback": [
      "\u001b[1;31m---------------------------------------------------------------------------\u001b[0m",
      "\u001b[1;31mFileNotFoundError\u001b[0m                         Traceback (most recent call last)",
      "\u001b[1;32m<ipython-input-2-d7ddd12956fa>\u001b[0m in \u001b[0;36m<module>\u001b[1;34m\u001b[0m\n\u001b[0;32m     13\u001b[0m \u001b[1;33m\u001b[0m\u001b[0m\n\u001b[0;32m     14\u001b[0m \u001b[1;31m# employee_file = open('C:/Users/tun_w/Desktop/python/employees.txt', 'r') # or\u001b[0m\u001b[1;33m\u001b[0m\u001b[1;33m\u001b[0m\u001b[1;33m\u001b[0m\u001b[0m\n\u001b[1;32m---> 15\u001b[1;33m \u001b[0memployee_file\u001b[0m \u001b[1;33m=\u001b[0m \u001b[0mopen\u001b[0m\u001b[1;33m(\u001b[0m\u001b[1;34mr'C:\\Users\\tun_w\\Desktop\\python\\employees.txt'\u001b[0m\u001b[1;33m,\u001b[0m \u001b[1;34m'r'\u001b[0m\u001b[1;33m)\u001b[0m\u001b[1;33m\u001b[0m\u001b[1;33m\u001b[0m\u001b[0m\n\u001b[0m\u001b[0;32m     16\u001b[0m \u001b[1;33m\u001b[0m\u001b[0m\n\u001b[0;32m     17\u001b[0m \u001b[1;31m# before we do anything, we need to make sure the file is readable\u001b[0m\u001b[1;33m\u001b[0m\u001b[1;33m\u001b[0m\u001b[1;33m\u001b[0m\u001b[0m\n",
      "\u001b[1;31mFileNotFoundError\u001b[0m: [Errno 2] No such file or directory: 'C:\\\\Users\\\\tun_w\\\\Desktop\\\\python\\\\employees.txt'"
     ]
    }
   ],
   "source": [
    "# reading external files\n",
    "# eg such as text file, csv file, or like html file\n",
    "# u can use the python read command that will allow u to read a file that is store outside of your python file \n",
    "\n",
    "# first thing is open the file inside python, using a special command called open(name of the file u want to open)\n",
    "\n",
    "# after the name of the file, u can open the files in different modes, first mode is called read 'r', if u want to write, 'w'\n",
    "# means u can write new information or change. third is 'a', which is append, append information to end of file, but cannot modify.\n",
    "# lastly, 'r+', it means read and write\n",
    "\n",
    "# either a relative path to the file, or absolute path to the file or just the files name if its in the same directory\n",
    "# normally, we gonna want to store this opened file in a variable, so we can create a variable\n",
    "\n",
    "# employee_file = open('C:/Users/tun_w/Desktop/python/employees.txt', 'r') # or\n",
    "employee_file = open(r'C:\\Users\\tun_w\\Desktop\\python\\employees.txt', 'r') \n",
    "\n",
    "# before we do anything, we need to make sure the file is readable\n",
    "print(employee_file.readable())\n",
    "\n",
    "# int(employee_file.read())\n",
    "\n",
    "print(employee_file.readline()) # just read the first line, but if u copy another line of code\n",
    "print(employee_file.readline()) # if i say it again, it will print out the second line. i can do this multiple times.\n",
    "\n",
    "print(employee_file.readlines()) # this is going to take all the lines inside the file and put them inside a list\n",
    "\n",
    "# whenever i open a file, you always want to make sure u close the file as well, so other than open, we have close()\n",
    "\n",
    "employee_file.close()"
   ]
  },
  {
   "cell_type": "code",
   "execution_count": 1,
   "metadata": {},
   "outputs": [
    {
     "ename": "FileNotFoundError",
     "evalue": "[Errno 2] No such file or directory: 'C:\\\\Users\\\\tun_w\\\\Desktop\\\\python\\\\employees.txt'",
     "output_type": "error",
     "traceback": [
      "\u001b[1;31m---------------------------------------------------------------------------\u001b[0m",
      "\u001b[1;31mFileNotFoundError\u001b[0m                         Traceback (most recent call last)",
      "\u001b[1;32m<ipython-input-1-40975a1eff73>\u001b[0m in \u001b[0;36m<module>\u001b[1;34m\u001b[0m\n\u001b[0;32m      2\u001b[0m \u001b[1;31m# for employee in employee_file.readlines():\u001b[0m\u001b[1;33m\u001b[0m\u001b[1;33m\u001b[0m\u001b[1;33m\u001b[0m\u001b[0m\n\u001b[0;32m      3\u001b[0m \u001b[1;33m\u001b[0m\u001b[0m\n\u001b[1;32m----> 4\u001b[1;33m \u001b[0memployee_file\u001b[0m \u001b[1;33m=\u001b[0m \u001b[0mopen\u001b[0m\u001b[1;33m(\u001b[0m\u001b[1;34mr'C:\\Users\\tun_w\\Desktop\\python\\employees.txt'\u001b[0m\u001b[1;33m,\u001b[0m \u001b[1;34m'r'\u001b[0m\u001b[1;33m)\u001b[0m\u001b[1;33m\u001b[0m\u001b[1;33m\u001b[0m\u001b[0m\n\u001b[0m\u001b[0;32m      5\u001b[0m \u001b[1;31m# print(employee_file.readlines()[1])\u001b[0m\u001b[1;33m\u001b[0m\u001b[1;33m\u001b[0m\u001b[1;33m\u001b[0m\u001b[0m\n\u001b[0;32m      6\u001b[0m \u001b[1;33m\u001b[0m\u001b[0m\n",
      "\u001b[1;31mFileNotFoundError\u001b[0m: [Errno 2] No such file or directory: 'C:\\\\Users\\\\tun_w\\\\Desktop\\\\python\\\\employees.txt'"
     ]
    }
   ],
   "source": [
    "# if i want to access a specific line, i can just refer to its index in the array\n",
    "# for employee in employee_file.readlines():\n",
    "\n",
    "employee_file = open(r'C:\\Users\\tun_w\\Desktop\\python\\employees.txt', 'r') \n",
    "# print(employee_file.readlines()[1])\n",
    "\n",
    "for employee in employee_file.readlines():\n",
    "    print(employee)\n",
    "employee_file.close()"
   ]
  },
  {
   "cell_type": "markdown",
   "metadata": {},
   "source": [
    "### writing to files\n",
    "\n"
   ]
  },
  {
   "cell_type": "code",
   "execution_count": 4,
   "metadata": {},
   "outputs": [
    {
     "data": {
      "text/plain": [
       "<function TextIOWrapper.close()>"
      ]
     },
     "execution_count": 4,
     "metadata": {},
     "output_type": "execute_result"
    }
   ],
   "source": [
    "# if i want to add another employee\n",
    "\n",
    "employee_file = open(r'C:\\Users\\tun_w\\Desktop\\employees.txt', 'a')\n",
    "# employee_file.write('toby - human resource')\n",
    " # employee_file.close\n",
    "\n",
    "# have to be careful when appending, run once enough. if u repeat run means u will keep adding.\n",
    "# might end upToby - Human ResourceToby - Human Resourcetoby - human resourcetoby - human resource\n",
    "\n",
    "# now if i want to write another person in.\n",
    "employee_file.write('\\nKelly - Customer Service') # to create the input in a new line, add backslash n\n",
    "employee_file.close"
   ]
  },
  {
   "cell_type": "markdown",
   "metadata": {},
   "source": [
    "### modules and pip"
   ]
  },
  {
   "attachments": {
    "image.png": {
     "image/png": "[encoded data removed]"
    }
   },
   "cell_type": "markdown",
   "metadata": {},
   "source": [
    "- a module is essentially just a python file that we can import into our current python file \n",
    "\n",
    "- you can make your own module, for example make a useful_tools.py\n",
    "\n",
    "![image.png](attachment:image.png)\n",
    "\n",
    "- assuming u make a useful_tools.py using the functions above. if u want to use the functions, instead of copying the syntax, u can import the module.\n",
    "\n",
    "# import useful_tools\n",
    "- then proceed to use the function inside"
   ]
  },
  {
   "cell_type": "markdown",
   "metadata": {},
   "source": [
    "### docs.python.org\n",
    "\n",
    "- u can find modules by typing list of python modules in google.\n",
    "\n",
    "### ok so we found the module we want, what next?\n",
    "- understand that there are two types of modules here. \n",
    "- 1) built in modules which means they are just built into the python language, we cant just automatically have access to them\n",
    "- 2) external modules, they are just stored in basically the same folder we installed python on our computer. \n",
    "\n",
    "### pip\n",
    "- is a program used to install python modules, it is known as the package manager. \n",
    "- a package manager allows u to install, manage , update and uninstall like different python modules.\n",
    "\n",
    "### how to use it??\n",
    "- if you on a mac, open up ur terminal\n",
    "- if you on a windows computer, open up ur command prompt\n",
    "\n"
   ]
  },
  {
   "cell_type": "markdown",
   "metadata": {},
   "source": [
    "### classes and objects\n",
    "\n",
    "- strings, booleans and numbers are some common ways we use to present our data.\n",
    "\n",
    "- however, theres alot of things in the real world that we cant represent in automating a string or an array. eg such as a phone, human or computer etc.\n",
    "\n",
    "### imporant:\n",
    "- essentially, what we can do with classes and objects is we can essentially create our own data types. so i can create my own data type for anything i wan in python.\n",
    "\n",
    "- eg: i can create a phone data type and it could represent a phone so i could store all the information i would ever want to know about my phone inside that datatype.\n",
    "- in python, we can create a class for it. a class is just like saying, this is another data type that we want to use in python \n",
    "\n",
    "# class\n",
    "- with a class, u can essentially define my own datatype. \n",
    "\n",
    "# lets say i want to write a program, and want to represent a student inside this program\n",
    "\n",
    "- i want to create a student date type, but i cant really represent a student using a string or a number\n"
   ]
  },
  {
   "cell_type": "markdown",
   "metadata": {},
   "source": [
    "# creating student. student class is on another file.\n",
    "- here, we can create an actual student and give it some information, and thats called an object.\n",
    "- so student class is basically defining what a student is, a class is just like an overview of what the student data type is.\n",
    "- an object is an actual student with a name, a major and a gps. \n",
    "\n",
    "\n",
    "- in order to use that student class and create a student object, i need to import that.\n"
   ]
  },
  {
   "cell_type": "code",
   "execution_count": 17,
   "metadata": {},
   "outputs": [
    {
     "name": "stdout",
     "output_type": "stream",
     "text": [
      "Jim\n",
      "3.1\n",
      "2.5\n"
     ]
    }
   ],
   "source": [
    "# this is basically saying, from the student file import student class.\n",
    "# so even tho both are student, they are referring to different things. the former referring to the file, the latter referring to the actual class.\n",
    "\n",
    "class student: # name of the class that i want to create # I want to create something called initialize function\n",
    "    def __init__(self, name, major, gpa, is_on_probation):  \n",
    "        self.name = name \n",
    "        self.major = major\n",
    "        self.gpa = gpa\n",
    "        self.is_on_probation = is_on_probation\n",
    "\n",
    "# so u can create an object of a class just like how u do it for a normal variable\n",
    "# have to create an paranthesis, inside, i have to give it a name, a major, a gpa and is_on_probation value.\n",
    "\n",
    "student1 = Student('Jim', 'Business', 3.1, False) # integer dont need ''.\n",
    "student2 = Student('Pam', 'Art', 2.5, True)\n",
    "\n",
    "# we want to create a student object, object is just an instance of a class.\n",
    "# class is like an overall template which defines what an object is. in this case defining a student\n",
    "# But an object is an actual student with actual information.\n",
    "\n",
    "# for this student object (student1), i can access each of the attributes from inside of the object.\n",
    "# if i wanted to get the name, student1.name\n",
    "# now that i created the student object, i can actually access the information about the student \n",
    "print(student1.name)\n",
    "print(student1.gpa)\n",
    "print(student2.gpa)\n",
    "\n",
    "# so how does it work?\n",
    "# when i say student(values), and i passing in all of these values, these values are getting passed into __init__ function\n",
    "# when we created a student, we actually calling this __init__ function, when i pass in the name, the gpa. it is \n",
    "# getting stored in that function values.\n",
    "\n",
    "# self.name, this means the actual object name is going to be equal to the name they passed in.\n",
    "# so self.name is an attribute of student.\n",
    "\n",
    "# rmb these are just values i passed in, they are just parameters. so i need to take the value that i passed in and i need\n",
    "# to assign them to the actual attributes of the object so i need to say, the name of the student is going to be equal\n",
    "# to the name that we passed in \n",
    "## basically, the name of the student object is going to be equal to the name that we passed in.\n",
    "\n",
    "### when i say self, it is referring to the actual object. \n",
    "\n",
    "# in this case, we created a student class and created student objects off it. however, we can model any real world entity\n",
    "# into this, like a phone, or water bottle, anything i wanted. as long as i give it some attributes.\n"
   ]
  },
  {
   "cell_type": "code",
   "execution_count": 21,
   "metadata": {},
   "outputs": [
    {
     "name": "stdout",
     "output_type": "stream",
     "text": [
      "What color are apples?\n",
      "(a) Red/Green\n",
      "(b) Purple\n",
      "(c) Orange\n",
      "\n",
      "a\n",
      "What color are bananas?\n",
      "(a) Teal\n",
      "(b) Magenta\n",
      "(c) Yellow\n",
      "\n",
      "b\n",
      "What color are strawberries?\n",
      "(a) Yellow\n",
      "(b) Red\n",
      "(c) Blue\n",
      "\n",
      "b\n",
      "You got 2/3 Correct\n"
     ]
    }
   ],
   "source": [
    "### multiple choice quiz\n",
    "\n",
    "question_prompts = [\n",
    "    'What color are apples?\\n(a) Red/Green\\n(b) Purple\\n(c) Orange\\n\\n',\n",
    "    'What color are bananas?\\n(a) Teal\\n(b) Magenta\\n(c) Yellow\\n\\n',\n",
    "    'What color are strawberries?\\n(a) Yellow\\n(b) Red\\n(c) Blue\\n\\n'\n",
    "]\n",
    "\n",
    "# if we think about it, there are actually two parts to the question\n",
    "# 1) there are the prompts, actual question itself. 2) and there is the answer to the qns. \n",
    "# IMPT: both of these attributes need to be kept track of. I need to keep track of my qns, as well as what the answer is.\n",
    "\n",
    "# for this, going to create question class. data type for qns. \n",
    "# inside of that question class will be able to store the question prompts, and will be able to store the questions answer\n",
    "\n",
    "class Question:\n",
    "    def __init__(self, prompt, answer):\n",
    "        self.prompt = prompt # this part is take the values and assign them to actual class objects \n",
    "        self.answer = answer\n",
    "        \n",
    "questions = [\n",
    "    Question(question_prompts[0], 'a'),\n",
    "    Question(question_prompts[1], 'c'),\n",
    "    Question(question_prompts[2], 'b'),\n",
    "]\n",
    "\n",
    "# i want to loop through the questions in the questions array so i'm going to create a for loop\n",
    "def run_test(questions):\n",
    "    score = 0\n",
    "    for question in questions: # for each question object inside of this question array, i want to do something\n",
    "        answer = input(question.prompt)\n",
    "        if answer == question.answer: # chking if answer that student gave, is equal to answer of current question\n",
    "            score += 1\n",
    "    print('You got ' + str(score) + '/' + str(len(questions)) + ' Correct')\n",
    "    \n",
    "run_test(questions)\n",
    "        \n",
    "        \n",
    "# basically the first thing i want to do is ask the user the question,\n",
    "# then i want to store their response inside of a variable\n",
    "\n",
    "# to sum up, we created a question class, then we able to store all the information about a question we ever need, eg prompts and the answer\n",
    "# we created our own question data type, then able to create a bunch of different questions, pass it into run_test methods\n",
    "# it is then able to grade the test and just run the test "
   ]
  },
  {
   "cell_type": "markdown",
   "metadata": {},
   "source": [
    "### Class Functions\n"
   ]
  },
  {
   "cell_type": "code",
   "execution_count": 26,
   "metadata": {},
   "outputs": [
    {
     "name": "stdout",
     "output_type": "stream",
     "text": [
      "True\n"
     ]
    }
   ],
   "source": [
    "# class function is essentially a function that we can use inside of a class and it can either modify the objects of the class \n",
    "# or it can give a specific information about those objects\n",
    "\n",
    "class student:\n",
    "    def __init__(self, name, major, gpa):\n",
    "        self.name = name\n",
    "        self.major = major\n",
    "        self.gpa = gpa\n",
    "        \n",
    "# can create a function that tell us whether this particular student is on the honour roll\n",
    "    def on_honor_roll(self):\n",
    "        if self.gpa >= 3.5:\n",
    "            return True\n",
    "        else:\n",
    "            return False\n",
    "        \n",
    "student1 = student('Oscar', 'Accounting', 3.1)\n",
    "student2 = student('Phyllis', 'Business', 3.8)\n",
    "\n",
    "# we can use functions inside of these class files so i can actually define a function instead of this student class \n",
    "# then all of my student objects could access it. \n",
    "\n",
    "print(student2.on_honor_roll())"
   ]
  },
  {
   "cell_type": "markdown",
   "metadata": {},
   "source": [
    " ### Inheritance"
   ]
  },
  {
   "cell_type": "code",
   "execution_count": 2,
   "metadata": {},
   "outputs": [
    {
     "name": "stdout",
     "output_type": "stream",
     "text": [
      "The chef makes a chicken\n",
      "The chef makes bbq ribs\n",
      "The chef makes a chicken\n",
      "The chef makes orange chicken\n"
     ]
    }
   ],
   "source": [
    "# Inheritance is basically where we can define a bunch of attributes and functions inside of a class\n",
    "# then we can create another class and we can inherit allose attributes\n",
    "# so i can have one class that has all the functionality of another class without have to physically write out any of the same methods or attributes.\n",
    "\n",
    "class chef:\n",
    "    def make_chicken(self):\n",
    "        print('The chef makes a chicken')\n",
    "    def make_salad(self):\n",
    "        print('The chef makes a salad')\n",
    "    def make_special_dish(self):\n",
    "        print('The chef makes bbq ribs')\n",
    "\n",
    "mychef = chef()\n",
    "mychef.make_chicken()\n",
    "mychef.make_special_dish()\n",
    "\n",
    "# lets say I wanted to create another class to model another type of chef \n",
    "# lets say I wanted to create a chinese chef that can do anything a normal chef can do\n",
    "\n",
    "# class chinesechef: \n",
    "#    def make_chicken(self):\n",
    "#        print('The chef makes a chicken')\n",
    "#    def make_salad(self):\n",
    "#        print('The chef makes a salad')\n",
    "#    def make_special_dish(self):\n",
    "#        print('The chef makes orange chicken')\n",
    "#    def make_fried_rice(self):\n",
    "#        print('The chef makes fried rice')\n",
    "    \n",
    "# mychinesechef = chinesechef()\n",
    "# mychinesechef.make_special_dish()\n",
    "\n",
    "# this is the long method, i have to copy and past all the functions over.\n",
    "# to improve it, we can use smth called inheritance. instead of copy and paste these functions, i could just inherit these functions\n",
    "\n",
    "#basically, this is saying, inside the chinesechef, i want to be able to use all the functions that are contained inside of the chef class\n",
    "\n",
    "class chinesechef(chef): # inside the parenthesis i have to say the name of the class I want to inherit from\n",
    "        def make_fried_rice(self):\n",
    "            print('The chef makes fried rice')\n",
    "            \n",
    "        def make_special_dish(self):\n",
    "            print('The chef makes orange chicken')\n",
    "            \n",
    "mychinesechef = chinesechef()\n",
    "mychinesechef.make_chicken() # still shows the chef can make chicken, because i inherited the make chicken method from the chef class\n",
    "mychinesechef.make_special_dish()\n",
    "# but theres a problem, chinese chef supposed to make orange chicken, not bbq ribs. he make bbq ribs because he inherited from chef\n",
    "# so u need overwrite it, as shown above. add in another function specifying the specific dish to chinese chef\n",
    "\n",
    "\n",
    "\n",
    "\n",
    "\n",
    "\n"
   ]
  },
  {
   "cell_type": "markdown",
   "metadata": {},
   "source": [
    "### Python Interpreter"
   ]
  },
  {
   "cell_type": "code",
   "execution_count": 3,
   "metadata": {},
   "outputs": [],
   "source": [
    " # Python interpreter is basically a little environment that we can use to execute python commands.\n",
    "# like sandbox environment\n",
    "\n",
    "# open up ur command prompt (windows), terminal (mac)\n",
    "\n",
    "# cmd prompt is an environment on our computer where we can interact with computer and do different things\n",
    "# just that we dont have a graphical user interface (GUI)\n",
    "\n",
    "# go in command prompt, type in python 3\n",
    "# for windows, if it didnt work, u might have to add it to the path variables \n",
    "\n",
    "\n"
   ]
  },
  {
   "cell_type": "markdown",
   "metadata": {},
   "source": [
    "### if u want to write actual code, it will be easier to use a text editor.\n"
   ]
  },
  {
   "cell_type": "code",
   "execution_count": null,
   "metadata": {},
   "outputs": [],
   "source": []
  }
 ],
 "metadata": {
  "kernelspec": {
   "display_name": "Python 3",
   "language": "python",
   "name": "python3"
  },
  "language_info": {
   "codemirror_mode": {
    "name": "ipython",
    "version": 3
   },
   "file_extension": ".py",
   "mimetype": "text/x-python",
   "name": "python",
   "nbconvert_exporter": "python",
   "pygments_lexer": "ipython3",
   "version": "3.7.4"
  }
 },
 "nbformat": 4,
 "nbformat_minor": 2
}
